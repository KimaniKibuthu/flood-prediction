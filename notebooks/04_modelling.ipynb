{
 "cells": [
  {
   "cell_type": "markdown",
   "metadata": {},
   "source": [
    "# Modelling\n",
    "In this part we experiment with differernt models and strive to get the best performing model"
   ]
  },
  {
   "cell_type": "markdown",
   "metadata": {},
   "source": [
    "## Import the necessary libraries\n"
   ]
  },
  {
   "cell_type": "code",
   "execution_count": 1,
   "metadata": {},
   "outputs": [
    {
     "data": {
      "text/plain": [
       "'c:\\\\Users\\\\Spectra\\\\flood-prediction'"
      ]
     },
     "execution_count": 1,
     "metadata": {},
     "output_type": "execute_result"
    }
   ],
   "source": [
    "# Set configuration for notebook\n",
    "import os\n",
    "\n",
    "os.chdir(\"c:\\\\Users\\\\Spectra\\\\flood-prediction\")\n",
    "os.getcwd()"
   ]
  },
  {
   "cell_type": "code",
   "execution_count": 2,
   "metadata": {},
   "outputs": [],
   "source": [
    "# Import libraries\n",
    "import mlflow\n",
    "import optuna\n",
    "import pandas as pd\n",
    "import numpy as np\n",
    "import autogluon as ag\n",
    "from autogluon.tabular import TabularDataset, TabularPredictor\n",
    "from src.utils import load_config\n",
    "from sklearn.model_selection import train_test_split, StratifiedKFold, cross_val_score\n",
    "from sklearn.metrics import classification_report\n",
    "from lightgbm import LGBMClassifier"
   ]
  },
  {
   "cell_type": "code",
   "execution_count": 3,
   "metadata": {},
   "outputs": [],
   "source": [
    "# load config\n",
    "config = load_config()"
   ]
  },
  {
   "cell_type": "markdown",
   "metadata": {},
   "source": [
    "## Modelling"
   ]
  },
  {
   "cell_type": "markdown",
   "metadata": {},
   "source": [
    "**Run automl to get the best model from which we can build upon**"
   ]
  },
  {
   "cell_type": "code",
   "execution_count": 4,
   "metadata": {},
   "outputs": [
    {
     "name": "stderr",
     "output_type": "stream",
     "text": [
      "No path specified. Models will be saved in: \"AutogluonModels\\ag-20240527_115602\"\n",
      "Presets specified: ['medium_quality', 'optimize_for_deployment']\n",
      "Beginning AutoGluon training ...\n",
      "AutoGluon will save models to \"AutogluonModels\\ag-20240527_115602\"\n",
      "=================== System Info ===================\n",
      "AutoGluon Version:  1.1.0\n",
      "Python Version:     3.11.5\n",
      "Operating System:   Windows\n",
      "Platform Machine:   AMD64\n",
      "Platform Version:   10.0.22631\n",
      "CPU Count:          8\n",
      "Memory Avail:       2.61 GB / 15.85 GB (16.5%)\n",
      "Disk Space Avail:   96.26 GB / 475.53 GB (20.2%)\n",
      "===================================================\n",
      "Train Data Rows:    26433\n",
      "Train Data Columns: 6\n",
      "Label Column:       Flood\n",
      "AutoGluon infers your prediction problem is: 'binary' (because only two unique label-values observed).\n",
      "\t2 unique label values:  [0.0, 1.0]\n",
      "\tIf 'binary' is not the correct problem_type, please manually specify the problem_type parameter during predictor init (You may specify problem_type as one of: ['binary', 'multiclass', 'regression'])\n",
      "Problem Type:       binary\n",
      "Preprocessing data ...\n",
      "Selected class <--> label mapping:  class 1 = 1, class 0 = 0\n",
      "Using Feature Generators to preprocess the data ...\n",
      "Fitting AutoMLPipelineFeatureGenerator...\n",
      "\tAvailable Memory:                    2676.14 MB\n",
      "\tTrain Data (Original)  Memory Usage: 1.21 MB (0.0% of available memory)\n",
      "\tInferring data type of each feature based on column values. Set feature_metadata_in to manually specify special dtypes of the features.\n",
      "\tStage 1 Generators:\n",
      "\t\tFitting AsTypeFeatureGenerator...\n",
      "\tStage 2 Generators:\n",
      "\t\tFitting FillNaFeatureGenerator...\n",
      "\tStage 3 Generators:\n",
      "\t\tFitting IdentityFeatureGenerator...\n",
      "\tStage 4 Generators:\n",
      "\t\tFitting DropUniqueFeatureGenerator...\n",
      "\tStage 5 Generators:\n",
      "\t\tFitting DropDuplicatesFeatureGenerator...\n",
      "\tTypes of features in original data (raw dtype, special dtypes):\n",
      "\t\t('float', []) : 6 | ['rain', 'Station_Number', 'ALT', 'rain_latitude', 'rain_longitude', ...]\n",
      "\tTypes of features in processed data (raw dtype, special dtypes):\n",
      "\t\t('float', []) : 6 | ['rain', 'Station_Number', 'ALT', 'rain_latitude', 'rain_longitude', ...]\n",
      "\t0.3s = Fit runtime\n",
      "\t6 features in original data used to generate 6 features in processed data.\n",
      "\tTrain Data (Processed) Memory Usage: 1.21 MB (0.0% of available memory)\n",
      "Data preprocessing and feature engineering runtime = 0.39s ...\n",
      "AutoGluon will gauge predictive performance using evaluation metric: 'f1'\n",
      "\tTo change this, specify the eval_metric parameter of Predictor()\n",
      "Automatically generating train/validation split with holdout_frac=0.09457874626413952, Train Rows: 23933, Val Rows: 2500\n",
      "User-specified model hyperparameters to be fit:\n",
      "{\n",
      "\t'NN_TORCH': {},\n",
      "\t'GBM': [{'extra_trees': True, 'ag_args': {'name_suffix': 'XT'}}, {}, 'GBMLarge'],\n",
      "\t'CAT': {},\n",
      "\t'XGB': {},\n",
      "\t'FASTAI': {},\n",
      "\t'RF': [{'criterion': 'gini', 'ag_args': {'name_suffix': 'Gini', 'problem_types': ['binary', 'multiclass']}}, {'criterion': 'entropy', 'ag_args': {'name_suffix': 'Entr', 'problem_types': ['binary', 'multiclass']}}, {'criterion': 'squared_error', 'ag_args': {'name_suffix': 'MSE', 'problem_types': ['regression', 'quantile']}}],\n",
      "\t'XT': [{'criterion': 'gini', 'ag_args': {'name_suffix': 'Gini', 'problem_types': ['binary', 'multiclass']}}, {'criterion': 'entropy', 'ag_args': {'name_suffix': 'Entr', 'problem_types': ['binary', 'multiclass']}}, {'criterion': 'squared_error', 'ag_args': {'name_suffix': 'MSE', 'problem_types': ['regression', 'quantile']}}],\n",
      "\t'KNN': [{'weights': 'uniform', 'ag_args': {'name_suffix': 'Unif'}}, {'weights': 'distance', 'ag_args': {'name_suffix': 'Dist'}}],\n",
      "}\n",
      "Fitting 13 L1 models ...\n",
      "Fitting model: KNeighborsUnif ...\n",
      "\t0.6646\t = Validation score   (f1)\n",
      "\t7.07s\t = Training   runtime\n",
      "\t0.03s\t = Validation runtime\n",
      "Fitting model: KNeighborsDist ...\n",
      "\t0.6576\t = Validation score   (f1)\n",
      "\t0.21s\t = Training   runtime\n",
      "\t0.15s\t = Validation runtime\n",
      "Fitting model: LightGBMXT ...\n",
      "\t0.7317\t = Validation score   (f1)\n",
      "\t6.12s\t = Training   runtime\n",
      "\t0.05s\t = Validation runtime\n",
      "Fitting model: LightGBM ...\n",
      "\t0.7454\t = Validation score   (f1)\n",
      "\t3.26s\t = Training   runtime\n",
      "\t0.03s\t = Validation runtime\n",
      "Fitting model: RandomForestGini ...\n",
      "\t0.6735\t = Validation score   (f1)\n",
      "\t7.32s\t = Training   runtime\n",
      "\t0.26s\t = Validation runtime\n",
      "Fitting model: RandomForestEntr ...\n",
      "\t0.6722\t = Validation score   (f1)\n",
      "\t10.04s\t = Training   runtime\n",
      "\t0.28s\t = Validation runtime\n",
      "Fitting model: CatBoost ...\n",
      "\tWarning: Exception caused CatBoost to fail during training (ImportError)... Skipping this model.\n",
      "\t\t\n",
      "Fitting model: ExtraTreesGini ...\n",
      "\t0.6736\t = Validation score   (f1)\n",
      "\t4.7s\t = Training   runtime\n",
      "\t0.4s\t = Validation runtime\n",
      "Fitting model: ExtraTreesEntr ...\n",
      "\t0.6811\t = Validation score   (f1)\n",
      "\t4.07s\t = Training   runtime\n",
      "\t0.25s\t = Validation runtime\n",
      "Fitting model: NeuralNetFastAI ...\n",
      "\t0.7345\t = Validation score   (f1)\n",
      "\t68.77s\t = Training   runtime\n",
      "\t0.1s\t = Validation runtime\n",
      "Fitting model: XGBoost ...\n",
      "\t0.7415\t = Validation score   (f1)\n",
      "\t3.87s\t = Training   runtime\n",
      "\t0.03s\t = Validation runtime\n",
      "Fitting model: NeuralNetTorch ...\n",
      "\t0.7448\t = Validation score   (f1)\n",
      "\t135.13s\t = Training   runtime\n",
      "\t0.04s\t = Validation runtime\n",
      "Fitting model: LightGBMLarge ...\n",
      "\t0.7365\t = Validation score   (f1)\n",
      "\t3.72s\t = Training   runtime\n",
      "\t0.02s\t = Validation runtime\n",
      "Fitting model: WeightedEnsemble_L2 ...\n",
      "\tEnsemble Weights: {'LightGBM': 0.833, 'KNeighborsDist': 0.167}\n",
      "\t0.7478\t = Validation score   (f1)\n",
      "\t1.24s\t = Training   runtime\n",
      "\t0.0s\t = Validation runtime\n",
      "AutoGluon training complete, total runtime = 260.97s ... Best model: \"WeightedEnsemble_L2\"\n",
      "Deleting model KNeighborsUnif. All files under AutogluonModels\\ag-20240527_115602\\models\\KNeighborsUnif will be removed.\n",
      "Deleting model LightGBMXT. All files under AutogluonModels\\ag-20240527_115602\\models\\LightGBMXT will be removed.\n",
      "Deleting model RandomForestGini. All files under AutogluonModels\\ag-20240527_115602\\models\\RandomForestGini will be removed.\n",
      "Deleting model RandomForestEntr. All files under AutogluonModels\\ag-20240527_115602\\models\\RandomForestEntr will be removed.\n",
      "Deleting model ExtraTreesGini. All files under AutogluonModels\\ag-20240527_115602\\models\\ExtraTreesGini will be removed.\n",
      "Deleting model ExtraTreesEntr. All files under AutogluonModels\\ag-20240527_115602\\models\\ExtraTreesEntr will be removed.\n",
      "Deleting model NeuralNetFastAI. All files under AutogluonModels\\ag-20240527_115602\\models\\NeuralNetFastAI will be removed.\n",
      "Deleting model XGBoost. All files under AutogluonModels\\ag-20240527_115602\\models\\XGBoost will be removed.\n",
      "Deleting model NeuralNetTorch. All files under AutogluonModels\\ag-20240527_115602\\models\\NeuralNetTorch will be removed.\n",
      "Deleting model LightGBMLarge. All files under AutogluonModels\\ag-20240527_115602\\models\\LightGBMLarge will be removed.\n",
      "TabularPredictor saved. To load, use: predictor = TabularPredictor.load(\"AutogluonModels\\ag-20240527_115602\")\n"
     ]
    },
    {
     "data": {
      "text/html": [
       "<div>\n",
       "<style scoped>\n",
       "    .dataframe tbody tr th:only-of-type {\n",
       "        vertical-align: middle;\n",
       "    }\n",
       "\n",
       "    .dataframe tbody tr th {\n",
       "        vertical-align: top;\n",
       "    }\n",
       "\n",
       "    .dataframe thead th {\n",
       "        text-align: right;\n",
       "    }\n",
       "</style>\n",
       "<table border=\"1\" class=\"dataframe\">\n",
       "  <thead>\n",
       "    <tr style=\"text-align: right;\">\n",
       "      <th></th>\n",
       "      <th>model</th>\n",
       "      <th>score_test</th>\n",
       "      <th>score_val</th>\n",
       "      <th>eval_metric</th>\n",
       "      <th>pred_time_test</th>\n",
       "      <th>pred_time_val</th>\n",
       "      <th>fit_time</th>\n",
       "      <th>pred_time_test_marginal</th>\n",
       "      <th>pred_time_val_marginal</th>\n",
       "      <th>fit_time_marginal</th>\n",
       "      <th>stack_level</th>\n",
       "      <th>can_infer</th>\n",
       "      <th>fit_order</th>\n",
       "    </tr>\n",
       "  </thead>\n",
       "  <tbody>\n",
       "    <tr>\n",
       "      <th>0</th>\n",
       "      <td>KNeighborsDist</td>\n",
       "      <td>0.966862</td>\n",
       "      <td>0.657592</td>\n",
       "      <td>f1</td>\n",
       "      <td>0.042744</td>\n",
       "      <td>0.145689</td>\n",
       "      <td>0.206665</td>\n",
       "      <td>0.042744</td>\n",
       "      <td>0.145689</td>\n",
       "      <td>0.206665</td>\n",
       "      <td>1</td>\n",
       "      <td>True</td>\n",
       "      <td>1</td>\n",
       "    </tr>\n",
       "    <tr>\n",
       "      <th>1</th>\n",
       "      <td>WeightedEnsemble_L2</td>\n",
       "      <td>0.853387</td>\n",
       "      <td>0.747826</td>\n",
       "      <td>f1</td>\n",
       "      <td>0.065744</td>\n",
       "      <td>0.176689</td>\n",
       "      <td>4.706896</td>\n",
       "      <td>0.007001</td>\n",
       "      <td>0.003999</td>\n",
       "      <td>1.236261</td>\n",
       "      <td>2</td>\n",
       "      <td>True</td>\n",
       "      <td>3</td>\n",
       "    </tr>\n",
       "    <tr>\n",
       "      <th>2</th>\n",
       "      <td>LightGBM</td>\n",
       "      <td>0.809237</td>\n",
       "      <td>0.745435</td>\n",
       "      <td>f1</td>\n",
       "      <td>0.015999</td>\n",
       "      <td>0.027001</td>\n",
       "      <td>3.263970</td>\n",
       "      <td>0.015999</td>\n",
       "      <td>0.027001</td>\n",
       "      <td>3.263970</td>\n",
       "      <td>1</td>\n",
       "      <td>True</td>\n",
       "      <td>2</td>\n",
       "    </tr>\n",
       "  </tbody>\n",
       "</table>\n",
       "</div>"
      ],
      "text/plain": [
       "                 model  score_test  score_val eval_metric  pred_time_test  \\\n",
       "0       KNeighborsDist    0.966862   0.657592          f1        0.042744   \n",
       "1  WeightedEnsemble_L2    0.853387   0.747826          f1        0.065744   \n",
       "2             LightGBM    0.809237   0.745435          f1        0.015999   \n",
       "\n",
       "   pred_time_val  fit_time  pred_time_test_marginal  pred_time_val_marginal  \\\n",
       "0       0.145689  0.206665                 0.042744                0.145689   \n",
       "1       0.176689  4.706896                 0.007001                0.003999   \n",
       "2       0.027001  3.263970                 0.015999                0.027001   \n",
       "\n",
       "   fit_time_marginal  stack_level  can_infer  fit_order  \n",
       "0           0.206665            1       True          1  \n",
       "1           1.236261            2       True          3  \n",
       "2           3.263970            1       True          2  "
      ]
     },
     "execution_count": 4,
     "metadata": {},
     "output_type": "execute_result"
    }
   ],
   "source": [
    "# Load data\n",
    "train_data = pd.read_csv(config[\"data\"][\"train_data_v2\"])\n",
    "label = \"Flood\"\n",
    "\n",
    "\n",
    "# Split the data into train and validation sets\n",
    "train, val = train_test_split(\n",
    "    train_data, test_size=0.1, stratify=train_data[label], random_state=42\n",
    ")\n",
    "train = TabularDataset(train)\n",
    "val = TabularDataset(val)\n",
    "# Run AutoML with stratified cross-validation\n",
    "predictor = TabularPredictor(\n",
    "    label=label, eval_metric=\"f1\", sample_weight=\"auto_weight\"\n",
    ").fit(train_data, presets=[\"medium_quality\", \"optimize_for_deployment\"])\n",
    "\n",
    "# Get the leaderboard of models\n",
    "predictor.leaderboard(val)"
   ]
  },
  {
   "cell_type": "code",
   "execution_count": 6,
   "metadata": {},
   "outputs": [
    {
     "data": {
      "text/plain": [
       "'AutogluonModels\\\\ag-20240522_034459'"
      ]
     },
     "execution_count": 6,
     "metadata": {},
     "output_type": "execute_result"
    }
   ],
   "source": [
    "predictor.path"
   ]
  },
  {
   "cell_type": "code",
   "execution_count": 7,
   "metadata": {},
   "outputs": [],
   "source": [
    "import shutil"
   ]
  },
  {
   "cell_type": "code",
   "execution_count": 8,
   "metadata": {},
   "outputs": [
    {
     "data": {
      "text/plain": [
       "'models/best_model'"
      ]
     },
     "execution_count": 8,
     "metadata": {},
     "output_type": "execute_result"
    }
   ],
   "source": [
    "shutil.move(predictor.path, \"models/best_model\")"
   ]
  },
  {
   "cell_type": "code",
   "execution_count": 264,
   "metadata": {},
   "outputs": [
    {
     "name": "stderr",
     "output_type": "stream",
     "text": [
      "Computing feature importance via permutation shuffling for 8 features using 1644 rows with 5 shuffle sets...\n",
      "\t17.68s\t= Expected runtime (3.54s per shuffle set)\n",
      "\t4.82s\t= Actual runtime (Completed 5 of 5 shuffle sets)\n"
     ]
    },
    {
     "data": {
      "text/html": [
       "<div>\n",
       "<style scoped>\n",
       "    .dataframe tbody tr th:only-of-type {\n",
       "        vertical-align: middle;\n",
       "    }\n",
       "\n",
       "    .dataframe tbody tr th {\n",
       "        vertical-align: top;\n",
       "    }\n",
       "\n",
       "    .dataframe thead th {\n",
       "        text-align: right;\n",
       "    }\n",
       "</style>\n",
       "<table border=\"1\" class=\"dataframe\">\n",
       "  <thead>\n",
       "    <tr style=\"text-align: right;\">\n",
       "      <th></th>\n",
       "      <th>importance</th>\n",
       "      <th>stddev</th>\n",
       "      <th>p_value</th>\n",
       "      <th>n</th>\n",
       "      <th>p99_high</th>\n",
       "      <th>p99_low</th>\n",
       "    </tr>\n",
       "  </thead>\n",
       "  <tbody>\n",
       "    <tr>\n",
       "      <th>Rainfall</th>\n",
       "      <td>0.196502</td>\n",
       "      <td>0.002994</td>\n",
       "      <td>6.463007e-09</td>\n",
       "      <td>5</td>\n",
       "      <td>0.202666</td>\n",
       "      <td>0.190338</td>\n",
       "    </tr>\n",
       "    <tr>\n",
       "      <th>rain_latitude</th>\n",
       "      <td>0.134218</td>\n",
       "      <td>0.005535</td>\n",
       "      <td>3.463299e-07</td>\n",
       "      <td>5</td>\n",
       "      <td>0.145615</td>\n",
       "      <td>0.122821</td>\n",
       "    </tr>\n",
       "    <tr>\n",
       "      <th>Station_Number</th>\n",
       "      <td>0.063042</td>\n",
       "      <td>0.005205</td>\n",
       "      <td>5.524884e-06</td>\n",
       "      <td>5</td>\n",
       "      <td>0.073758</td>\n",
       "      <td>0.052325</td>\n",
       "    </tr>\n",
       "    <tr>\n",
       "      <th>ALT</th>\n",
       "      <td>0.063004</td>\n",
       "      <td>0.002460</td>\n",
       "      <td>2.784880e-07</td>\n",
       "      <td>5</td>\n",
       "      <td>0.068070</td>\n",
       "      <td>0.057938</td>\n",
       "    </tr>\n",
       "    <tr>\n",
       "      <th>rain_longitude</th>\n",
       "      <td>0.059763</td>\n",
       "      <td>0.006247</td>\n",
       "      <td>1.412137e-05</td>\n",
       "      <td>5</td>\n",
       "      <td>0.072626</td>\n",
       "      <td>0.046900</td>\n",
       "    </tr>\n",
       "    <tr>\n",
       "      <th>dist_to_water</th>\n",
       "      <td>0.056144</td>\n",
       "      <td>0.005500</td>\n",
       "      <td>1.091452e-05</td>\n",
       "      <td>5</td>\n",
       "      <td>0.067469</td>\n",
       "      <td>0.044819</td>\n",
       "    </tr>\n",
       "    <tr>\n",
       "      <th>Min_Temp</th>\n",
       "      <td>0.030790</td>\n",
       "      <td>0.004926</td>\n",
       "      <td>7.602393e-05</td>\n",
       "      <td>5</td>\n",
       "      <td>0.040933</td>\n",
       "      <td>0.020647</td>\n",
       "    </tr>\n",
       "    <tr>\n",
       "      <th>Cloud_Coverage</th>\n",
       "      <td>0.028832</td>\n",
       "      <td>0.004601</td>\n",
       "      <td>7.528030e-05</td>\n",
       "      <td>5</td>\n",
       "      <td>0.038306</td>\n",
       "      <td>0.019357</td>\n",
       "    </tr>\n",
       "  </tbody>\n",
       "</table>\n",
       "</div>"
      ],
      "text/plain": [
       "                importance    stddev       p_value  n  p99_high   p99_low\n",
       "Rainfall          0.196502  0.002994  6.463007e-09  5  0.202666  0.190338\n",
       "rain_latitude     0.134218  0.005535  3.463299e-07  5  0.145615  0.122821\n",
       "Station_Number    0.063042  0.005205  5.524884e-06  5  0.073758  0.052325\n",
       "ALT               0.063004  0.002460  2.784880e-07  5  0.068070  0.057938\n",
       "rain_longitude    0.059763  0.006247  1.412137e-05  5  0.072626  0.046900\n",
       "dist_to_water     0.056144  0.005500  1.091452e-05  5  0.067469  0.044819\n",
       "Min_Temp          0.030790  0.004926  7.602393e-05  5  0.040933  0.020647\n",
       "Cloud_Coverage    0.028832  0.004601  7.528030e-05  5  0.038306  0.019357"
      ]
     },
     "execution_count": 264,
     "metadata": {},
     "output_type": "execute_result"
    }
   ],
   "source": [
    "predictor = TabularPredictor.load(config[\"models\"][\"models_directory\"])\n",
    "\n",
    "predictor.feature_importance(val)"
   ]
  },
  {
   "cell_type": "code",
   "execution_count": 36,
   "metadata": {},
   "outputs": [
    {
     "name": "stderr",
     "output_type": "stream",
     "text": [
      "Computing feature importance via permutation shuffling for 8 features using 1644 rows with 5 shuffle sets...\n"
     ]
    },
    {
     "name": "stderr",
     "output_type": "stream",
     "text": [
      "\t9.44s\t= Expected runtime (1.89s per shuffle set)\n",
      "\t5.8s\t= Actual runtime (Completed 5 of 5 shuffle sets)\n"
     ]
    },
    {
     "data": {
      "image/png": "[encoded data removed]",
      "text/plain": [
       "<Figure size 1000x600 with 1 Axes>"
      ]
     },
     "metadata": {},
     "output_type": "display_data"
    }
   ],
   "source": [
    "import seaborn as sns\n",
    "import matplotlib.pyplot as plt\n",
    "\n",
    "feature_importance_df = predictor.feature_importance(val)\n",
    "# Assuming 'df' is your DataFrame containing the feature importance data\n",
    "plt.figure(figsize=(10, 6))\n",
    "sns.barplot(\n",
    "    x=\"importance\",\n",
    "    y=feature_importance_df.index,\n",
    "    data=feature_importance_df,\n",
    "    color=\"skyblue\",\n",
    ")\n",
    "plt.xlabel(\"Feature Importance\")\n",
    "plt.ylabel(\"Features\")\n",
    "plt.title(\"Feature Importance Plot\")\n",
    "plt.show()"
   ]
  },
  {
   "cell_type": "markdown",
   "metadata": {},
   "source": [
    "**Hyperparametertune the model**"
   ]
  },
  {
   "cell_type": "markdown",
   "metadata": {},
   "source": [
    "**Validate Model on test data**"
   ]
  },
  {
   "cell_type": "code",
   "execution_count": 18,
   "metadata": {},
   "outputs": [],
   "source": [
    "predictor = TabularPredictor.load(config[\"modelling\"][\"models_directory\"])"
   ]
  },
  {
   "cell_type": "code",
   "execution_count": 7,
   "metadata": {},
   "outputs": [
    {
     "name": "stderr",
     "output_type": "stream",
     "text": [
      "Loaded data from: data/testing_data/test_v2.csv | Columns = 7 / 7 | Rows = 2937 -> 2937\n"
     ]
    }
   ],
   "source": [
    "# Load test data\n",
    "predictor = TabularPredictor.load(\"AutogluonModels/ag-20240527_115602\")\n",
    "test_data = pd.read_csv(config[\"data\"][\"test_data_v2\"]).drop(\"Flood\", axis=1)\n",
    "y_true = pd.read_csv(config[\"data\"][\"test_data_v2\"])[\"Flood\"].values\n",
    "test = TabularDataset(config[\"data\"][\"test_data_v2\"])\n",
    "test_no_label = TabularDataset(test_data)"
   ]
  },
  {
   "cell_type": "code",
   "execution_count": 8,
   "metadata": {},
   "outputs": [],
   "source": [
    "predictions = predictor.predict(test_no_label)"
   ]
  },
  {
   "cell_type": "code",
   "execution_count": 9,
   "metadata": {},
   "outputs": [
    {
     "data": {
      "text/plain": [
       "{'f1': 0.751147842056933}"
      ]
     },
     "execution_count": 9,
     "metadata": {},
     "output_type": "execute_result"
    }
   ],
   "source": [
    "perf = predictor.evaluate(test, auxiliary_metrics=False)\n",
    "perf"
   ]
  },
  {
   "cell_type": "code",
   "execution_count": 10,
   "metadata": {},
   "outputs": [
    {
     "name": "stdout",
     "output_type": "stream",
     "text": [
      "              precision    recall  f1-score   support\n",
      "\n",
      "         0.0       0.93      0.95      0.94      2366\n",
      "         1.0       0.79      0.72      0.75       571\n",
      "\n",
      "    accuracy                           0.91      2937\n",
      "   macro avg       0.86      0.84      0.85      2937\n",
      "weighted avg       0.91      0.91      0.91      2937\n",
      "\n"
     ]
    }
   ],
   "source": [
    "print(classification_report(y_true, predictions))"
   ]
  },
  {
   "cell_type": "markdown",
   "metadata": {},
   "source": [
    "The best model is saved in the folder models."
   ]
  },
  {
   "cell_type": "code",
   "execution_count": 4,
   "metadata": {},
   "outputs": [
    {
     "name": "stdout",
     "output_type": "stream",
     "text": [
      "flood-prediction/\n"
     ]
    }
   ],
   "source": [
    "import os\n",
    "\n",
    "\n",
    "def print_directory_tree(root_dir):\n",
    "    print(f\"{root_dir}/\")\n",
    "    for root, dirs, files in os.walk(root_dir):\n",
    "        level = root.replace(root_dir, \"\").count(os.sep)\n",
    "        indent = \" \" * 4 * level\n",
    "        subdir = root.split(\"/\")[-1]\n",
    "        print(f\"{indent}├── {subdir}/\")\n",
    "        for file in files:\n",
    "            print(f\"{indent}│   └── {file}\")\n",
    "\n",
    "\n",
    "# Example usage\n",
    "print_directory_tree(\"flood-prediction\")"
   ]
  },
  {
   "cell_type": "code",
   "execution_count": null,
   "metadata": {},
   "outputs": [],
   "source": []
  },
  {
   "cell_type": "code",
   "execution_count": null,
   "metadata": {},
   "outputs": [],
   "source": []
  }
 ],
 "metadata": {
  "kernelspec": {
   "display_name": ".venv",
   "language": "python",
   "name": "python3"
  },
  "language_info": {
   "codemirror_mode": {
    "name": "ipython",
    "version": 3
   },
   "file_extension": ".py",
   "mimetype": "text/x-python",
   "name": "python",
   "nbconvert_exporter": "python",
   "pygments_lexer": "ipython3",
   "version": "3.11.5"
  }
 },
 "nbformat": 4,
 "nbformat_minor": 2
}
