{
 "cells": [
  {
   "cell_type": "markdown",
   "metadata": {},
   "source": [
    "# Modelling\n",
    "In this part we experiment with differernt models and strive to get the best performing model"
   ]
  },
  {
   "cell_type": "markdown",
   "metadata": {},
   "source": [
    "## Import the necessary libraries\n"
   ]
  },
  {
   "cell_type": "code",
   "execution_count": 1,
   "metadata": {},
   "outputs": [
    {
     "data": {
      "text/plain": [
       "'c:\\\\Users\\\\Spectra\\\\flood-prediction'"
      ]
     },
     "execution_count": 1,
     "metadata": {},
     "output_type": "execute_result"
    }
   ],
   "source": [
    "# Set configuration for notebook\n",
    "import os\n",
    "\n",
    "os.chdir(\"c:\\\\Users\\\\Spectra\\\\flood-prediction\")\n",
    "os.getcwd()"
   ]
  },
  {
   "cell_type": "code",
   "execution_count": 2,
   "metadata": {},
   "outputs": [],
   "source": [
    "# Import libraries\n",
    "import mlflow\n",
    "import optuna\n",
    "import shap\n",
    "import pandas as pd\n",
    "import numpy as np\n",
    "import autogluon as ag\n",
    "from autogluon.tabular import TabularDataset, TabularPredictor\n",
    "from src.utils import load_config\n",
    "from sklearn.model_selection import train_test_split, StratifiedKFold, cross_val_score\n",
    "from sklearn.metrics import classification_report\n",
    "from lightgbm import LGBMClassifier"
   ]
  },
  {
   "cell_type": "code",
   "execution_count": 3,
   "metadata": {},
   "outputs": [],
   "source": [
    "# load config\n",
    "config = load_config()"
   ]
  },
  {
   "cell_type": "markdown",
   "metadata": {},
   "source": [
    "## Modelling"
   ]
  },
  {
   "cell_type": "markdown",
   "metadata": {},
   "source": [
    "**Run automl to get the best model from which we can build upon**"
   ]
  },
  {
   "cell_type": "code",
   "execution_count": 18,
   "metadata": {},
   "outputs": [
    {
     "name": "stderr",
     "output_type": "stream",
     "text": [
      "No path specified. Models will be saved in: \"AutogluonModels\\ag-20240531_100432\"\n",
      "Presets specified: ['medium_quality', 'optimize_for_deployment']\n",
      "Beginning AutoGluon training ...\n",
      "AutoGluon will save models to \"AutogluonModels\\ag-20240531_100432\"\n",
      "=================== System Info ===================\n",
      "AutoGluon Version:  1.1.0\n",
      "Python Version:     3.11.5\n",
      "Operating System:   Windows\n",
      "Platform Machine:   AMD64\n",
      "Platform Version:   10.0.22631\n",
      "CPU Count:          8\n",
      "Memory Avail:       0.66 GB / 15.85 GB (4.2%)\n",
      "Disk Space Avail:   76.81 GB / 475.53 GB (16.2%)\n",
      "===================================================\n",
      "Train Data Rows:    16435\n",
      "Train Data Columns: 8\n",
      "Label Column:       Flood\n",
      "AutoGluon infers your prediction problem is: 'binary' (because only two unique label-values observed).\n",
      "\t2 unique label values:  [1, 0]\n",
      "\tIf 'binary' is not the correct problem_type, please manually specify the problem_type parameter during predictor init (You may specify problem_type as one of: ['binary', 'multiclass', 'regression'])\n",
      "Problem Type:       binary\n",
      "Preprocessing data ...\n",
      "Selected class <--> label mapping:  class 1 = 1, class 0 = 0\n",
      "Using Feature Generators to preprocess the data ...\n",
      "Fitting AutoMLPipelineFeatureGenerator...\n",
      "\tAvailable Memory:                    673.67 MB\n",
      "\tTrain Data (Original)  Memory Usage: 1.00 MB (0.1% of available memory)\n",
      "\tInferring data type of each feature based on column values. Set feature_metadata_in to manually specify special dtypes of the features.\n",
      "\tStage 1 Generators:\n",
      "\t\tFitting AsTypeFeatureGenerator...\n",
      "\tStage 2 Generators:\n",
      "\t\tFitting FillNaFeatureGenerator...\n",
      "\tStage 3 Generators:\n",
      "\t\tFitting IdentityFeatureGenerator...\n",
      "\tStage 4 Generators:\n",
      "\t\tFitting DropUniqueFeatureGenerator...\n",
      "\tStage 5 Generators:\n",
      "\t\tFitting DropDuplicatesFeatureGenerator...\n",
      "\tTypes of features in original data (raw dtype, special dtypes):\n",
      "\t\t('float', []) : 6 | ['Min_Temp', 'Rainfall', 'Cloud_Coverage', 'rain_latitude', 'rain_longitude', ...]\n",
      "\t\t('int', [])   : 2 | ['Station_Number', 'ALT']\n",
      "\tTypes of features in processed data (raw dtype, special dtypes):\n",
      "\t\t('float', []) : 6 | ['Min_Temp', 'Rainfall', 'Cloud_Coverage', 'rain_latitude', 'rain_longitude', ...]\n",
      "\t\t('int', [])   : 2 | ['Station_Number', 'ALT']\n",
      "\t0.7s = Fit runtime\n",
      "\t8 features in original data used to generate 8 features in processed data.\n",
      "\tTrain Data (Processed) Memory Usage: 1.00 MB (0.1% of available memory)\n",
      "Data preprocessing and feature engineering runtime = 0.94s ...\n",
      "AutoGluon will gauge predictive performance using evaluation metric: 'f1'\n",
      "\tTo change this, specify the eval_metric parameter of Predictor()\n",
      "Automatically generating train/validation split with holdout_frac=0.1, Train Rows: 14791, Val Rows: 1644\n",
      "User-specified model hyperparameters to be fit:\n",
      "{\n",
      "\t'NN_TORCH': {},\n",
      "\t'GBM': [{'extra_trees': True, 'ag_args': {'name_suffix': 'XT'}}, {}, 'GBMLarge'],\n",
      "\t'CAT': {},\n",
      "\t'XGB': {},\n",
      "\t'FASTAI': {},\n",
      "\t'RF': [{'criterion': 'gini', 'ag_args': {'name_suffix': 'Gini', 'problem_types': ['binary', 'multiclass']}}, {'criterion': 'entropy', 'ag_args': {'name_suffix': 'Entr', 'problem_types': ['binary', 'multiclass']}}, {'criterion': 'squared_error', 'ag_args': {'name_suffix': 'MSE', 'problem_types': ['regression', 'quantile']}}],\n",
      "\t'XT': [{'criterion': 'gini', 'ag_args': {'name_suffix': 'Gini', 'problem_types': ['binary', 'multiclass']}}, {'criterion': 'entropy', 'ag_args': {'name_suffix': 'Entr', 'problem_types': ['binary', 'multiclass']}}, {'criterion': 'squared_error', 'ag_args': {'name_suffix': 'MSE', 'problem_types': ['regression', 'quantile']}}],\n",
      "\t'KNN': [{'weights': 'uniform', 'ag_args': {'name_suffix': 'Unif'}}, {'weights': 'distance', 'ag_args': {'name_suffix': 'Dist'}}],\n",
      "}\n",
      "Fitting 13 L1 models ...\n",
      "Fitting model: KNeighborsUnif ...\n",
      "\t0.8576\t = Validation score   (f1)\n",
      "\t0.55s\t = Training   runtime\n",
      "\t2.7s\t = Validation runtime\n",
      "Fitting model: KNeighborsDist ...\n",
      "\t0.8658\t = Validation score   (f1)\n",
      "\t0.31s\t = Training   runtime\n",
      "\t3.35s\t = Validation runtime\n",
      "Fitting model: LightGBMXT ...\n",
      "Warning: Low available memory may cause OOM error if training continues\n",
      "Available Memory: 502 MB\n",
      "Estimated GBM model size: 0 MB\n",
      "Warning: Early stopped GBM model prior to optimal result to avoid OOM error. Please increase available memory to avoid subpar model quality.\n",
      "\tWarning: Exception caused LightGBMXT to fail during training... Skipping this model.\n",
      "\t\t'NoneType' object is not iterable\n",
      "Detailed Traceback:\n",
      "Traceback (most recent call last):\n",
      "  File \"c:\\Users\\Spectra\\flood-prediction\\.venv\\Lib\\site-packages\\autogluon\\core\\trainer\\abstract_trainer.py\", line 1904, in _train_and_save\n",
      "    model = self._train_single(X, y, model, X_val, y_val, total_resources=total_resources, **model_fit_kwargs)\n",
      "            ^^^^^^^^^^^^^^^^^^^^^^^^^^^^^^^^^^^^^^^^^^^^^^^^^^^^^^^^^^^^^^^^^^^^^^^^^^^^^^^^^^^^^^^^^^^^^^^^^^\n",
      "  File \"c:\\Users\\Spectra\\flood-prediction\\.venv\\Lib\\site-packages\\autogluon\\core\\trainer\\abstract_trainer.py\", line 1844, in _train_single\n",
      "    model = model.fit(X=X, y=y, X_val=X_val, y_val=y_val, total_resources=total_resources, **model_fit_kwargs)\n",
      "            ^^^^^^^^^^^^^^^^^^^^^^^^^^^^^^^^^^^^^^^^^^^^^^^^^^^^^^^^^^^^^^^^^^^^^^^^^^^^^^^^^^^^^^^^^^^^^^^^^^\n",
      "  File \"c:\\Users\\Spectra\\flood-prediction\\.venv\\Lib\\site-packages\\autogluon\\core\\models\\abstract\\abstract_model.py\", line 855, in fit\n",
      "    out = self._fit(**kwargs)\n",
      "          ^^^^^^^^^^^^^^^^^^^\n",
      "  File \"c:\\Users\\Spectra\\flood-prediction\\.venv\\Lib\\site-packages\\autogluon\\tabular\\models\\lgb\\lgb_model.py\", line 218, in _fit\n",
      "    self.model = train_lgb_model(early_stopping_callback_kwargs=early_stopping_callback_kwargs, **train_params)\n",
      "                 ^^^^^^^^^^^^^^^^^^^^^^^^^^^^^^^^^^^^^^^^^^^^^^^^^^^^^^^^^^^^^^^^^^^^^^^^^^^^^^^^^^^^^^^^^^^^^^\n",
      "  File \"c:\\Users\\Spectra\\flood-prediction\\.venv\\Lib\\site-packages\\autogluon\\tabular\\models\\lgb\\lgb_utils.py\", line 124, in train_lgb_model\n",
      "    return lgb.train(**train_params)\n",
      "           ^^^^^^^^^^^^^^^^^^^^^^^^^\n",
      "  File \"c:\\Users\\Spectra\\flood-prediction\\.venv\\Lib\\site-packages\\lightgbm\\engine.py\", line 286, in train\n",
      "    cb(callback.CallbackEnv(model=booster,\n",
      "  File \"c:\\Users\\Spectra\\flood-prediction\\.venv\\Lib\\site-packages\\autogluon\\tabular\\models\\lgb\\callbacks.py\", line 255, in _callback\n",
      "    _mem_early_stop()\n",
      "  File \"c:\\Users\\Spectra\\flood-prediction\\.venv\\Lib\\site-packages\\autogluon\\tabular\\models\\lgb\\callbacks.py\", line 162, in _mem_early_stop\n",
      "    % (best_iter[0] + 1, \"\\t\".join([_format_eval_result(x, show_stdv=False) for x in best_score_list[0]])),\n",
      "                                   ^^^^^^^^^^^^^^^^^^^^^^^^^^^^^^^^^^^^^^^^^^^^^^^^^^^^^^^^^^^^^^^^^^^^^\n",
      "TypeError: 'NoneType' object is not iterable\n",
      "Fitting model: LightGBM ...\n",
      "Warning: Low available memory may cause OOM error if training continues\n",
      "Available Memory: 438 MB\n",
      "Estimated GBM model size: 0 MB\n",
      "Warning: Early stopped GBM model prior to optimal result to avoid OOM error. Please increase available memory to avoid subpar model quality.\n",
      "\tWarning: Exception caused LightGBM to fail during training... Skipping this model.\n",
      "\t\t'NoneType' object is not iterable\n",
      "Detailed Traceback:\n",
      "Traceback (most recent call last):\n",
      "  File \"c:\\Users\\Spectra\\flood-prediction\\.venv\\Lib\\site-packages\\autogluon\\core\\trainer\\abstract_trainer.py\", line 1904, in _train_and_save\n",
      "    model = self._train_single(X, y, model, X_val, y_val, total_resources=total_resources, **model_fit_kwargs)\n",
      "            ^^^^^^^^^^^^^^^^^^^^^^^^^^^^^^^^^^^^^^^^^^^^^^^^^^^^^^^^^^^^^^^^^^^^^^^^^^^^^^^^^^^^^^^^^^^^^^^^^^\n",
      "  File \"c:\\Users\\Spectra\\flood-prediction\\.venv\\Lib\\site-packages\\autogluon\\core\\trainer\\abstract_trainer.py\", line 1844, in _train_single\n",
      "    model = model.fit(X=X, y=y, X_val=X_val, y_val=y_val, total_resources=total_resources, **model_fit_kwargs)\n",
      "            ^^^^^^^^^^^^^^^^^^^^^^^^^^^^^^^^^^^^^^^^^^^^^^^^^^^^^^^^^^^^^^^^^^^^^^^^^^^^^^^^^^^^^^^^^^^^^^^^^^\n",
      "  File \"c:\\Users\\Spectra\\flood-prediction\\.venv\\Lib\\site-packages\\autogluon\\core\\models\\abstract\\abstract_model.py\", line 855, in fit\n",
      "    out = self._fit(**kwargs)\n",
      "          ^^^^^^^^^^^^^^^^^^^\n",
      "  File \"c:\\Users\\Spectra\\flood-prediction\\.venv\\Lib\\site-packages\\autogluon\\tabular\\models\\lgb\\lgb_model.py\", line 218, in _fit\n",
      "    self.model = train_lgb_model(early_stopping_callback_kwargs=early_stopping_callback_kwargs, **train_params)\n",
      "                 ^^^^^^^^^^^^^^^^^^^^^^^^^^^^^^^^^^^^^^^^^^^^^^^^^^^^^^^^^^^^^^^^^^^^^^^^^^^^^^^^^^^^^^^^^^^^^^\n",
      "  File \"c:\\Users\\Spectra\\flood-prediction\\.venv\\Lib\\site-packages\\autogluon\\tabular\\models\\lgb\\lgb_utils.py\", line 124, in train_lgb_model\n",
      "    return lgb.train(**train_params)\n",
      "           ^^^^^^^^^^^^^^^^^^^^^^^^^\n",
      "  File \"c:\\Users\\Spectra\\flood-prediction\\.venv\\Lib\\site-packages\\lightgbm\\engine.py\", line 286, in train\n",
      "    cb(callback.CallbackEnv(model=booster,\n",
      "  File \"c:\\Users\\Spectra\\flood-prediction\\.venv\\Lib\\site-packages\\autogluon\\tabular\\models\\lgb\\callbacks.py\", line 255, in _callback\n",
      "    _mem_early_stop()\n",
      "  File \"c:\\Users\\Spectra\\flood-prediction\\.venv\\Lib\\site-packages\\autogluon\\tabular\\models\\lgb\\callbacks.py\", line 162, in _mem_early_stop\n",
      "    % (best_iter[0] + 1, \"\\t\".join([_format_eval_result(x, show_stdv=False) for x in best_score_list[0]])),\n",
      "                                   ^^^^^^^^^^^^^^^^^^^^^^^^^^^^^^^^^^^^^^^^^^^^^^^^^^^^^^^^^^^^^^^^^^^^^\n",
      "TypeError: 'NoneType' object is not iterable\n",
      "Fitting model: RandomForestGini ...\n",
      "\t0.9366\t = Validation score   (f1)\n",
      "\t8.43s\t = Training   runtime\n",
      "\t1.33s\t = Validation runtime\n",
      "Fitting model: RandomForestEntr ...\n",
      "\t0.9382\t = Validation score   (f1)\n",
      "\t9.41s\t = Training   runtime\n",
      "\t0.66s\t = Validation runtime\n",
      "Fitting model: CatBoost ...\n",
      "\tWarning: Exception caused CatBoost to fail during training (ImportError)... Skipping this model.\n",
      "\t\t\n",
      "Fitting model: ExtraTreesGini ...\n",
      "\tWarning: Reducing model 'n_estimators' from 300 -> 299 due to low memory. Expected memory usage reduced from 15.03% -> 15.0% of available memory...\n",
      "\t0.9321\t = Validation score   (f1)\n",
      "\t6.69s\t = Training   runtime\n",
      "\t0.46s\t = Validation runtime\n",
      "Fitting model: ExtraTreesEntr ...\n",
      "\t0.9351\t = Validation score   (f1)\n",
      "\t6.04s\t = Training   runtime\n",
      "\t0.69s\t = Validation runtime\n",
      "Fitting model: NeuralNetFastAI ...\n",
      "\t0.9335\t = Validation score   (f1)\n",
      "\t400.27s\t = Training   runtime\n",
      "\t1.66s\t = Validation runtime\n",
      "Fitting model: XGBoost ...\n",
      "\t0.9383\t = Validation score   (f1)\n",
      "\t49.17s\t = Training   runtime\n",
      "\t0.19s\t = Validation runtime\n",
      "Fitting model: NeuralNetTorch ...\n",
      "\t0.9387\t = Validation score   (f1)\n",
      "\t637.25s\t = Training   runtime\n",
      "\t0.11s\t = Validation runtime\n",
      "Fitting model: LightGBMLarge ...\n",
      "\t0.941\t = Validation score   (f1)\n",
      "\t23.14s\t = Training   runtime\n",
      "\t0.04s\t = Validation runtime\n",
      "Fitting model: WeightedEnsemble_L2 ...\n",
      "\tEnsemble Weights: {'NeuralNetFastAI': 0.375, 'ExtraTreesEntr': 0.25, 'RandomForestGini': 0.125, 'ExtraTreesGini': 0.125, 'LightGBMLarge': 0.125}\n",
      "\t0.9486\t = Validation score   (f1)\n",
      "\t4.05s\t = Training   runtime\n",
      "\t0.02s\t = Validation runtime\n",
      "AutoGluon training complete, total runtime = 1214.56s ... Best model: \"WeightedEnsemble_L2\"\n",
      "Deleting model KNeighborsUnif. All files under AutogluonModels\\ag-20240531_100432\\models\\KNeighborsUnif will be removed.\n",
      "Deleting model KNeighborsDist. All files under AutogluonModels\\ag-20240531_100432\\models\\KNeighborsDist will be removed.\n",
      "Deleting model RandomForestEntr. All files under AutogluonModels\\ag-20240531_100432\\models\\RandomForestEntr will be removed.\n",
      "Deleting model XGBoost. All files under AutogluonModels\\ag-20240531_100432\\models\\XGBoost will be removed.\n",
      "Deleting model NeuralNetTorch. All files under AutogluonModels\\ag-20240531_100432\\models\\NeuralNetTorch will be removed.\n",
      "TabularPredictor saved. To load, use: predictor = TabularPredictor.load(\"AutogluonModels\\ag-20240531_100432\")\n"
     ]
    },
    {
     "data": {
      "text/html": [
       "<div>\n",
       "<style scoped>\n",
       "    .dataframe tbody tr th:only-of-type {\n",
       "        vertical-align: middle;\n",
       "    }\n",
       "\n",
       "    .dataframe tbody tr th {\n",
       "        vertical-align: top;\n",
       "    }\n",
       "\n",
       "    .dataframe thead th {\n",
       "        text-align: right;\n",
       "    }\n",
       "</style>\n",
       "<table border=\"1\" class=\"dataframe\">\n",
       "  <thead>\n",
       "    <tr style=\"text-align: right;\">\n",
       "      <th></th>\n",
       "      <th>model</th>\n",
       "      <th>score_test</th>\n",
       "      <th>score_val</th>\n",
       "      <th>eval_metric</th>\n",
       "      <th>pred_time_test</th>\n",
       "      <th>pred_time_val</th>\n",
       "      <th>fit_time</th>\n",
       "      <th>pred_time_test_marginal</th>\n",
       "      <th>pred_time_val_marginal</th>\n",
       "      <th>fit_time_marginal</th>\n",
       "      <th>stack_level</th>\n",
       "      <th>can_infer</th>\n",
       "      <th>fit_order</th>\n",
       "    </tr>\n",
       "  </thead>\n",
       "  <tbody>\n",
       "    <tr>\n",
       "      <th>0</th>\n",
       "      <td>ExtraTreesEntr</td>\n",
       "      <td>0.998487</td>\n",
       "      <td>0.935143</td>\n",
       "      <td>f1</td>\n",
       "      <td>0.879802</td>\n",
       "      <td>0.685604</td>\n",
       "      <td>6.042871</td>\n",
       "      <td>0.879802</td>\n",
       "      <td>0.685604</td>\n",
       "      <td>6.042871</td>\n",
       "      <td>1</td>\n",
       "      <td>True</td>\n",
       "      <td>3</td>\n",
       "    </tr>\n",
       "    <tr>\n",
       "      <th>1</th>\n",
       "      <td>ExtraTreesGini</td>\n",
       "      <td>0.998487</td>\n",
       "      <td>0.932127</td>\n",
       "      <td>f1</td>\n",
       "      <td>0.932001</td>\n",
       "      <td>0.462635</td>\n",
       "      <td>6.686260</td>\n",
       "      <td>0.932001</td>\n",
       "      <td>0.462635</td>\n",
       "      <td>6.686260</td>\n",
       "      <td>1</td>\n",
       "      <td>True</td>\n",
       "      <td>2</td>\n",
       "    </tr>\n",
       "    <tr>\n",
       "      <th>2</th>\n",
       "      <td>RandomForestGini</td>\n",
       "      <td>0.998487</td>\n",
       "      <td>0.936556</td>\n",
       "      <td>f1</td>\n",
       "      <td>1.014883</td>\n",
       "      <td>1.332486</td>\n",
       "      <td>8.426958</td>\n",
       "      <td>1.014883</td>\n",
       "      <td>1.332486</td>\n",
       "      <td>8.426958</td>\n",
       "      <td>1</td>\n",
       "      <td>True</td>\n",
       "      <td>1</td>\n",
       "    </tr>\n",
       "    <tr>\n",
       "      <th>3</th>\n",
       "      <td>WeightedEnsemble_L2</td>\n",
       "      <td>0.978659</td>\n",
       "      <td>0.948640</td>\n",
       "      <td>f1</td>\n",
       "      <td>3.802589</td>\n",
       "      <td>4.198123</td>\n",
       "      <td>448.612720</td>\n",
       "      <td>0.014820</td>\n",
       "      <td>0.015901</td>\n",
       "      <td>4.049283</td>\n",
       "      <td>2</td>\n",
       "      <td>True</td>\n",
       "      <td>6</td>\n",
       "    </tr>\n",
       "    <tr>\n",
       "      <th>4</th>\n",
       "      <td>LightGBMLarge</td>\n",
       "      <td>0.977238</td>\n",
       "      <td>0.940998</td>\n",
       "      <td>f1</td>\n",
       "      <td>0.046808</td>\n",
       "      <td>0.038088</td>\n",
       "      <td>23.140513</td>\n",
       "      <td>0.046808</td>\n",
       "      <td>0.038088</td>\n",
       "      <td>23.140513</td>\n",
       "      <td>1</td>\n",
       "      <td>True</td>\n",
       "      <td>5</td>\n",
       "    </tr>\n",
       "    <tr>\n",
       "      <th>5</th>\n",
       "      <td>NeuralNetFastAI</td>\n",
       "      <td>0.940276</td>\n",
       "      <td>0.933535</td>\n",
       "      <td>f1</td>\n",
       "      <td>0.914275</td>\n",
       "      <td>1.663408</td>\n",
       "      <td>400.266835</td>\n",
       "      <td>0.914275</td>\n",
       "      <td>1.663408</td>\n",
       "      <td>400.266835</td>\n",
       "      <td>1</td>\n",
       "      <td>True</td>\n",
       "      <td>4</td>\n",
       "    </tr>\n",
       "  </tbody>\n",
       "</table>\n",
       "</div>"
      ],
      "text/plain": [
       "                 model  score_test  score_val eval_metric  pred_time_test  \\\n",
       "0       ExtraTreesEntr    0.998487   0.935143          f1        0.879802   \n",
       "1       ExtraTreesGini    0.998487   0.932127          f1        0.932001   \n",
       "2     RandomForestGini    0.998487   0.936556          f1        1.014883   \n",
       "3  WeightedEnsemble_L2    0.978659   0.948640          f1        3.802589   \n",
       "4        LightGBMLarge    0.977238   0.940998          f1        0.046808   \n",
       "5      NeuralNetFastAI    0.940276   0.933535          f1        0.914275   \n",
       "\n",
       "   pred_time_val    fit_time  pred_time_test_marginal  pred_time_val_marginal  \\\n",
       "0       0.685604    6.042871                 0.879802                0.685604   \n",
       "1       0.462635    6.686260                 0.932001                0.462635   \n",
       "2       1.332486    8.426958                 1.014883                1.332486   \n",
       "3       4.198123  448.612720                 0.014820                0.015901   \n",
       "4       0.038088   23.140513                 0.046808                0.038088   \n",
       "5       1.663408  400.266835                 0.914275                1.663408   \n",
       "\n",
       "   fit_time_marginal  stack_level  can_infer  fit_order  \n",
       "0           6.042871            1       True          3  \n",
       "1           6.686260            1       True          2  \n",
       "2           8.426958            1       True          1  \n",
       "3           4.049283            2       True          6  \n",
       "4          23.140513            1       True          5  \n",
       "5         400.266835            1       True          4  "
      ]
     },
     "execution_count": 18,
     "metadata": {},
     "output_type": "execute_result"
    }
   ],
   "source": [
    "# Load data\n",
    "train_data = pd.read_csv(config[\"data\"][\"train_data_path\"])\n",
    "label = \"Flood\"\n",
    "\n",
    "\n",
    "# Split the data into train and validation sets\n",
    "train, val = train_test_split(\n",
    "    train_data, test_size=0.1, stratify=train_data[label], random_state=42\n",
    ")\n",
    "train = TabularDataset(train)\n",
    "val = TabularDataset(val)\n",
    "# Run AutoML with stratified cross-validation\n",
    "predictor = TabularPredictor(\n",
    "    label=label,\n",
    "    eval_metric=\"f1\",\n",
    "    sample_weight=\"auto_weight\",\n",
    ").fit(train_data, presets=[\"medium_quality\", \"optimize_for_deployment\"])\n",
    "\n",
    "# Get the leaderboard of models\n",
    "predictor.leaderboard(val)"
   ]
  },
  {
   "cell_type": "markdown",
   "metadata": {},
   "source": [
    "**Validate Model on test data**"
   ]
  },
  {
   "cell_type": "code",
   "execution_count": 5,
   "metadata": {},
   "outputs": [],
   "source": [
    "model_path = os.path.normpath(config[\"modelling\"][\"models_directory\"])\n",
    "predictor = TabularPredictor.load(model_path)"
   ]
  },
  {
   "cell_type": "code",
   "execution_count": 6,
   "metadata": {},
   "outputs": [
    {
     "name": "stderr",
     "output_type": "stream",
     "text": [
      "Loaded data from: data/testing_data/test.csv | Columns = 9 / 9 | Rows = 4109 -> 4109\n"
     ]
    }
   ],
   "source": [
    "# Load test data\n",
    "\n",
    "test_data = pd.read_csv(config[\"data\"][\"test_data_path\"]).drop(\"Flood\", axis=1)\n",
    "y_true = pd.read_csv(config[\"data\"][\"test_data_path\"])[\"Flood\"].values\n",
    "test = TabularDataset(config[\"data\"][\"test_data_path\"])\n",
    "test_no_label = TabularDataset(test_data)"
   ]
  },
  {
   "cell_type": "code",
   "execution_count": 7,
   "metadata": {},
   "outputs": [],
   "source": [
    "predictions = predictor.predict(test_no_label)"
   ]
  },
  {
   "cell_type": "code",
   "execution_count": 8,
   "metadata": {},
   "outputs": [
    {
     "data": {
      "text/plain": [
       "{'f1': 0.9398907103825137}"
      ]
     },
     "execution_count": 8,
     "metadata": {},
     "output_type": "execute_result"
    }
   ],
   "source": [
    "perf = predictor.evaluate(test, auxiliary_metrics=False)\n",
    "perf"
   ]
  },
  {
   "cell_type": "code",
   "execution_count": 9,
   "metadata": {},
   "outputs": [
    {
     "name": "stdout",
     "output_type": "stream",
     "text": [
      "              precision    recall  f1-score   support\n",
      "\n",
      "           0       0.98      0.99      0.98      3283\n",
      "           1       0.94      0.94      0.94       826\n",
      "\n",
      "    accuracy                           0.98      4109\n",
      "   macro avg       0.96      0.96      0.96      4109\n",
      "weighted avg       0.98      0.98      0.98      4109\n",
      "\n"
     ]
    }
   ],
   "source": [
    "print(classification_report(y_true, predictions))"
   ]
  },
  {
   "cell_type": "markdown",
   "metadata": {},
   "source": [
    "The best model is saved in the folder models."
   ]
  },
  {
   "cell_type": "code",
   "execution_count": 16,
   "metadata": {},
   "outputs": [
    {
     "name": "stderr",
     "output_type": "stream",
     "text": [
      "c:\\Users\\Spectra\\flood-prediction\\.venv\\Lib\\site-packages\\shap\\explainers\\_tree.py:448: UserWarning: LightGBM binary classifier with TreeExplainer shap values output has changed to a list of ndarray\n",
      "  warnings.warn('LightGBM binary classifier with TreeExplainer shap values output has changed to a list of ndarray')\n"
     ]
    },
    {
     "data": {
      "image/png": "[encoded data removed]",
      "text/plain": [
       "<Figure size 800x470 with 2 Axes>"
      ]
     },
     "metadata": {},
     "output_type": "display_data"
    }
   ],
   "source": [
    "# Load the best model\n",
    "best_model = predictor._trainer.load_model(\"LightGBM\")\n",
    "lgbm_model = best_model.model\n",
    "# Initialize SHAP explainer with the LightGBM model\n",
    "explainer = shap.TreeExplainer(lgbm_model)\n",
    "\n",
    "# Generate SHAP values\n",
    "shap_values = explainer.shap_values(test_data)\n",
    "# Summary plot\n",
    "shap.summary_plot(shap_values, test_data)"
   ]
  },
  {
   "cell_type": "code",
   "execution_count": null,
   "metadata": {},
   "outputs": [],
   "source": []
  }
 ],
 "metadata": {
  "kernelspec": {
   "display_name": ".venv",
   "language": "python",
   "name": "python3"
  },
  "language_info": {
   "codemirror_mode": {
    "name": "ipython",
    "version": 3
   },
   "file_extension": ".py",
   "mimetype": "text/x-python",
   "name": "python",
   "nbconvert_exporter": "python",
   "pygments_lexer": "ipython3",
   "version": "3.11.5"
  }
 },
 "nbformat": 4,
 "nbformat_minor": 2
}
